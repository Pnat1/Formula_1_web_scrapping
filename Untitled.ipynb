{
 "cells": [
  {
   "cell_type": "code",
   "execution_count": 1,
   "id": "c67bd0d1",
   "metadata": {},
   "outputs": [],
   "source": [
    "import datetime\n",
    "import urllib.request\n",
    "from bs4 import BeautifulSoup as bs"
   ]
  },
  {
   "cell_type": "code",
   "execution_count": 12,
   "id": "b6bd0d34",
   "metadata": {},
   "outputs": [
    {
     "ename": "IndentationError",
     "evalue": "unexpected indent (<ipython-input-12-8d20cd65140f>, line 2)",
     "output_type": "error",
     "traceback": [
      "\u001b[0;36m  File \u001b[0;32m\"<ipython-input-12-8d20cd65140f>\"\u001b[0;36m, line \u001b[0;32m2\u001b[0m\n\u001b[0;31m    url = 'https://www.codewars.com/users/' + username\u001b[0m\n\u001b[0m    ^\u001b[0m\n\u001b[0;31mIndentationError\u001b[0m\u001b[0;31m:\u001b[0m unexpected indent\n"
     ]
    }
   ],
   "source": [
    "#def get_member_since(username):\n",
    "    url = 'https://www.codewars.com/users/' + username\n",
    "    access = urllib.request.urlopen(url)\n",
    "    username = input(\"Username: \")\n",
    "    date = datetime.date(year, month)\n",
    "    #datetime.input( )\n",
    "   # urllib.request.urlopen\n",
    "    return username + date"
   ]
  },
  {
   "cell_type": "code",
   "execution_count": 10,
   "id": "d853edad",
   "metadata": {},
   "outputs": [
    {
     "ename": "NameError",
     "evalue": "name 'x' is not defined",
     "output_type": "error",
     "traceback": [
      "\u001b[0;31m---------------------------------------------------------------------------\u001b[0m",
      "\u001b[0;31mNameError\u001b[0m                                 Traceback (most recent call last)",
      "\u001b[0;32m<ipython-input-10-a06d7c065f3b>\u001b[0m in \u001b[0;36m<module>\u001b[0;34m\u001b[0m\n\u001b[0;32m----> 1\u001b[0;31m \u001b[0mget_member_since\u001b[0m\u001b[0;34m(\u001b[0m\u001b[0mx\u001b[0m\u001b[0;34m)\u001b[0m\u001b[0;34m\u001b[0m\u001b[0;34m\u001b[0m\u001b[0m\n\u001b[0m",
      "\u001b[0;31mNameError\u001b[0m: name 'x' is not defined"
     ]
    }
   ],
   "source": [
    "get_member_since(x)"
   ]
  },
  {
   "cell_type": "code",
   "execution_count": 11,
   "id": "74f19561",
   "metadata": {},
   "outputs": [
    {
     "name": "stdout",
     "output_type": "stream",
     "text": [
      "Oct 2012 Oct 2012\n"
     ]
    }
   ],
   "source": [
    "import urllib.request\n",
    "import re\n",
    "def get_member_since(username):\n",
    "    url = 'https://www.codewars.com/users/' + username\n",
    "    regex = re.compile(r'\\w{3}\\s\\d{4}')\n",
    "    fhand = urllib.request.urlopen(url)\n",
    "    for line in fhand:\n",
    "        mo = regex.search(line.decode().strip())\n",
    "        if mo:\n",
    "            return mo.group()\n",
    "            \n",
    "print(get_member_since('jhoffner'), 'Oct 2012')    "
   ]
  },
  {
   "cell_type": "code",
   "execution_count": 15,
   "id": "842b8e4d",
   "metadata": {},
   "outputs": [
    {
     "ename": "NameError",
     "evalue": "name 'gp' is not defined",
     "output_type": "error",
     "traceback": [
      "\u001b[0;31m---------------------------------------------------------------------------\u001b[0m",
      "\u001b[0;31mNameError\u001b[0m                                 Traceback (most recent call last)",
      "\u001b[0;32m<ipython-input-15-8433afd00b63>\u001b[0m in \u001b[0;36m<module>\u001b[0;34m\u001b[0m\n\u001b[0;32m----> 1\u001b[0;31m \u001b[0mgp\u001b[0m\u001b[0;34m\u001b[0m\u001b[0;34m\u001b[0m\u001b[0m\n\u001b[0m",
      "\u001b[0;31mNameError\u001b[0m: name 'gp' is not defined"
     ]
    }
   ],
   "source": [
    "\n",
    "class users\n",
    "    def get_member_since(username):\n",
    "        url = 'https://www.codewars.com/users/' + username\n",
    "        regex = re.compile(r'\\w{3}\\s\\d{4}')\n",
    "        fhand = urllib.request.urlopen(url)\n",
    "        for line in fhand:\n",
    "            mo = regex.search(line.decode().strip())\n",
    "            if mo:\n",
    "                return mo.group()\n",
    "\n",
    "    print(get_member_since('jhoffner'), 'Oct 2012')   "
   ]
  },
  {
   "cell_type": "code",
   "execution_count": null,
   "id": "565947d4",
   "metadata": {},
   "outputs": [],
   "source": []
  }
 ],
 "metadata": {
  "kernelspec": {
   "display_name": "ironhack",
   "language": "python",
   "name": "ironhack"
  },
  "language_info": {
   "codemirror_mode": {
    "name": "ipython",
    "version": 3
   },
   "file_extension": ".py",
   "mimetype": "text/x-python",
   "name": "python",
   "nbconvert_exporter": "python",
   "pygments_lexer": "ipython3",
   "version": "3.8.8"
  }
 },
 "nbformat": 4,
 "nbformat_minor": 5
}
