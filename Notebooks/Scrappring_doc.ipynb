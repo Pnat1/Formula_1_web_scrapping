{
 "cells": [
  {
   "cell_type": "code",
   "execution_count": 14,
   "id": "485c0de7",
   "metadata": {},
   "outputs": [],
   "source": [
    "from selenium import webdriver\n",
    "from selenium.webdriver.chrome.options import Options\n",
    "import time\n",
    "import pandas as pd\n",
    "from selenium.webdriver.support.ui import Select\n",
    "from webdriver_manager.chrome import ChromeDriverManager\n",
    "import datetime"
   ]
  },
  {
   "cell_type": "code",
   "execution_count": 15,
   "id": "a14b4b84",
   "metadata": {},
   "outputs": [
    {
     "name": "stderr",
     "output_type": "stream",
     "text": [
      "<ipython-input-15-32b8e610b2a3>:2: DeprecationWarning: executable_path has been deprecated, please pass in a Service object\n",
      "  driver = webdriver.Chrome(driver)\n"
     ]
    }
   ],
   "source": [
    "driver = \"./chromedriver.exe\"\n",
    "driver = webdriver.Chrome(driver)\n",
    "driver.get(\"https://www.formula1.com/en/results.html/1960/drivers.html\")"
   ]
  },
  {
   "cell_type": "code",
   "execution_count": 16,
   "id": "a7b7e20f",
   "metadata": {},
   "outputs": [],
   "source": [
    "url_list = []\n",
    "for year in range(1960,2021):\n",
    "        url_list.append(f\"https://www.formula1.com/en/results.html/{year}/drivers.html\")"
   ]
  },
  {
   "cell_type": "code",
   "execution_count": 17,
   "id": "96cc32ab",
   "metadata": {},
   "outputs": [],
   "source": [
    "#Opciones de Selenium para evitar que sepan que eres un robot\n",
    "opciones= Options()\n",
    "opciones.add_experimental_option('excludeSwitches', ['enable-automation'])\n",
    "#para ocultarme como robot, pero me sigue diciendo que hay un software automatico usando chrome\n",
    "opciones.add_experimental_option('useAutomationExtension', False)\n",
    "opciones.add_argument('--start-maximized') #empezar maximizado\n",
    "opciones.add_argument('user.data-dir=selenium') #guarda las cookies\n",
    "opciones.add_argument('drive/adblock.crx') #adblocker\n",
    "opciones.add_argument('--incognito')#incognito window"
   ]
  },
  {
   "cell_type": "code",
   "execution_count": 22,
   "id": "2da88181",
   "metadata": {},
   "outputs": [
    {
     "name": "stderr",
     "output_type": "stream",
     "text": [
      "<ipython-input-22-7ffb34df2e90>:8: DeprecationWarning: find_element_by_* commands are deprecated. Please use find_element() instead\n",
      "  my_info = driver.find_element_by_css_selector(\"body > div.site-wrapper > main > article > div > div.ResultArchiveContainer > div.resultsarchive-wrapper > div.resultsarchive-content > div > table\")\n"
     ]
    },
    {
     "name": "stdout",
     "output_type": "stream",
     "text": [
      "Done\n",
      "<selenium.webdriver.remote.webelement.WebElement (session=\"81695d2d4b8f413f524183d0a52ee15c\", element=\"66144d4a-8745-4a3a-8c09-3e0c954daa4b\")>\n",
      "Done\n",
      "<selenium.webdriver.remote.webelement.WebElement (session=\"81695d2d4b8f413f524183d0a52ee15c\", element=\"7cb53315-77c8-464c-8983-0305d683b309\")>\n",
      "Done\n",
      "<selenium.webdriver.remote.webelement.WebElement (session=\"81695d2d4b8f413f524183d0a52ee15c\", element=\"46a05428-d580-4dc7-8e61-a4f8c61fd79d\")>\n",
      "Done\n",
      "<selenium.webdriver.remote.webelement.WebElement (session=\"81695d2d4b8f413f524183d0a52ee15c\", element=\"227f4ff1-457a-4a84-a4bd-6981a4d94df1\")>\n",
      "Done\n",
      "<selenium.webdriver.remote.webelement.WebElement (session=\"81695d2d4b8f413f524183d0a52ee15c\", element=\"f0c41bfc-e6d9-413b-94b1-29593d955ea4\")>\n",
      "Done\n",
      "<selenium.webdriver.remote.webelement.WebElement (session=\"81695d2d4b8f413f524183d0a52ee15c\", element=\"f0ab7a1a-a948-4a7f-bea8-64e44132cb6c\")>\n",
      "Done\n",
      "<selenium.webdriver.remote.webelement.WebElement (session=\"81695d2d4b8f413f524183d0a52ee15c\", element=\"0ee7d2a5-2667-44e0-810d-6844ab6bf244\")>\n",
      "Done\n",
      "<selenium.webdriver.remote.webelement.WebElement (session=\"81695d2d4b8f413f524183d0a52ee15c\", element=\"2d9cbaaf-e679-41bd-8cc0-8a962fbabf63\")>\n",
      "Done\n",
      "<selenium.webdriver.remote.webelement.WebElement (session=\"81695d2d4b8f413f524183d0a52ee15c\", element=\"cebc6c6d-89e6-492c-9092-0bcc67f01882\")>\n",
      "Done\n",
      "<selenium.webdriver.remote.webelement.WebElement (session=\"81695d2d4b8f413f524183d0a52ee15c\", element=\"3d0335a9-168d-46e2-b33f-54a737ae0ae3\")>\n",
      "Done\n",
      "<selenium.webdriver.remote.webelement.WebElement (session=\"81695d2d4b8f413f524183d0a52ee15c\", element=\"54f572fe-cde4-45e0-9c2b-1dc54a048e28\")>\n",
      "Done\n",
      "<selenium.webdriver.remote.webelement.WebElement (session=\"81695d2d4b8f413f524183d0a52ee15c\", element=\"f6a97fbc-2788-4b51-94dd-8f7cb146c033\")>\n",
      "Done\n",
      "<selenium.webdriver.remote.webelement.WebElement (session=\"81695d2d4b8f413f524183d0a52ee15c\", element=\"dc67b14d-8e0e-44d6-80d3-b00fc56b7dca\")>\n",
      "Done\n",
      "<selenium.webdriver.remote.webelement.WebElement (session=\"81695d2d4b8f413f524183d0a52ee15c\", element=\"699e6f9c-2988-414e-8c9c-8f341df0fc47\")>\n",
      "Done\n",
      "<selenium.webdriver.remote.webelement.WebElement (session=\"81695d2d4b8f413f524183d0a52ee15c\", element=\"3a2ff487-0b53-400c-9322-be488c6d6efa\")>\n",
      "Done\n",
      "<selenium.webdriver.remote.webelement.WebElement (session=\"81695d2d4b8f413f524183d0a52ee15c\", element=\"7188b0fb-82f9-4e81-ac9b-d0ec2dfae227\")>\n",
      "Done\n",
      "<selenium.webdriver.remote.webelement.WebElement (session=\"81695d2d4b8f413f524183d0a52ee15c\", element=\"285f0dad-c721-48d6-922a-932974e6060f\")>\n",
      "Done\n",
      "<selenium.webdriver.remote.webelement.WebElement (session=\"81695d2d4b8f413f524183d0a52ee15c\", element=\"b31c7b3b-09f8-43e9-861b-f1979bc1af88\")>\n",
      "Done\n",
      "<selenium.webdriver.remote.webelement.WebElement (session=\"81695d2d4b8f413f524183d0a52ee15c\", element=\"8fb4a4be-74a2-4d10-a98e-7638303f9604\")>\n",
      "Done\n",
      "<selenium.webdriver.remote.webelement.WebElement (session=\"81695d2d4b8f413f524183d0a52ee15c\", element=\"26f6f058-8346-4336-a25d-61f9cb788e68\")>\n",
      "Done\n",
      "<selenium.webdriver.remote.webelement.WebElement (session=\"81695d2d4b8f413f524183d0a52ee15c\", element=\"abc5d3a1-4a1b-45dd-a106-2e6e48d5d0b9\")>\n",
      "Done\n",
      "<selenium.webdriver.remote.webelement.WebElement (session=\"81695d2d4b8f413f524183d0a52ee15c\", element=\"9b21f74c-d29e-4be0-a639-c3c15009e48d\")>\n",
      "Done\n",
      "<selenium.webdriver.remote.webelement.WebElement (session=\"81695d2d4b8f413f524183d0a52ee15c\", element=\"28695b27-5351-4ee9-a5b8-0dfea7ab4ccd\")>\n",
      "Done\n",
      "<selenium.webdriver.remote.webelement.WebElement (session=\"81695d2d4b8f413f524183d0a52ee15c\", element=\"af75622d-ad9d-458c-9b18-f33f2384dafa\")>\n",
      "Done\n",
      "<selenium.webdriver.remote.webelement.WebElement (session=\"81695d2d4b8f413f524183d0a52ee15c\", element=\"f6bc7347-ef85-453d-a15d-21326a175ffb\")>\n",
      "Done\n",
      "<selenium.webdriver.remote.webelement.WebElement (session=\"81695d2d4b8f413f524183d0a52ee15c\", element=\"2ff0a9d7-1222-4fd7-8020-e5213f053d11\")>\n",
      "Done\n",
      "<selenium.webdriver.remote.webelement.WebElement (session=\"81695d2d4b8f413f524183d0a52ee15c\", element=\"9c37208e-a95e-4523-8336-76c88532cbb4\")>\n",
      "Done\n",
      "<selenium.webdriver.remote.webelement.WebElement (session=\"81695d2d4b8f413f524183d0a52ee15c\", element=\"8e1bc056-75d7-4cf5-82b9-8e000c371880\")>\n",
      "Done\n",
      "<selenium.webdriver.remote.webelement.WebElement (session=\"81695d2d4b8f413f524183d0a52ee15c\", element=\"4eda9b8b-3f0f-437a-b036-7b5b71e5a82f\")>\n",
      "Done\n",
      "<selenium.webdriver.remote.webelement.WebElement (session=\"81695d2d4b8f413f524183d0a52ee15c\", element=\"b5e7585d-8dfc-4db0-bc4c-c5fe8bc477aa\")>\n",
      "Done\n",
      "<selenium.webdriver.remote.webelement.WebElement (session=\"81695d2d4b8f413f524183d0a52ee15c\", element=\"310a7ca6-72d9-4377-a706-fedca974b3ad\")>\n",
      "Done\n",
      "<selenium.webdriver.remote.webelement.WebElement (session=\"81695d2d4b8f413f524183d0a52ee15c\", element=\"7722458d-ef16-4d02-b140-72a72fb0a4a7\")>\n",
      "Done\n",
      "<selenium.webdriver.remote.webelement.WebElement (session=\"81695d2d4b8f413f524183d0a52ee15c\", element=\"373496f3-f53f-43a5-bebd-31c19790c5c4\")>\n",
      "Done\n",
      "<selenium.webdriver.remote.webelement.WebElement (session=\"81695d2d4b8f413f524183d0a52ee15c\", element=\"953b00b5-07ef-4ff2-94d1-23d469f34bac\")>\n",
      "Done\n",
      "<selenium.webdriver.remote.webelement.WebElement (session=\"81695d2d4b8f413f524183d0a52ee15c\", element=\"ecf23c5f-8726-4e63-a018-0630cf977b99\")>\n",
      "Done\n",
      "<selenium.webdriver.remote.webelement.WebElement (session=\"81695d2d4b8f413f524183d0a52ee15c\", element=\"3e3a8c78-f3f0-4030-a42f-22591106c789\")>\n",
      "Done\n",
      "<selenium.webdriver.remote.webelement.WebElement (session=\"81695d2d4b8f413f524183d0a52ee15c\", element=\"6dcdfb69-1307-4d3e-83d9-a3b5931c6751\")>\n",
      "Done\n",
      "<selenium.webdriver.remote.webelement.WebElement (session=\"81695d2d4b8f413f524183d0a52ee15c\", element=\"958974cc-0e12-463a-ae8f-6cb2f6d49e56\")>\n",
      "Done\n",
      "<selenium.webdriver.remote.webelement.WebElement (session=\"81695d2d4b8f413f524183d0a52ee15c\", element=\"298f295f-7c75-4c56-9186-853c8460e823\")>\n",
      "Done\n",
      "<selenium.webdriver.remote.webelement.WebElement (session=\"81695d2d4b8f413f524183d0a52ee15c\", element=\"0fbe107f-4e68-4adb-af4a-d8b474175dce\")>\n",
      "Done\n",
      "<selenium.webdriver.remote.webelement.WebElement (session=\"81695d2d4b8f413f524183d0a52ee15c\", element=\"327d54f4-7948-44ca-b348-c41d2c28e13f\")>\n",
      "Done\n",
      "<selenium.webdriver.remote.webelement.WebElement (session=\"81695d2d4b8f413f524183d0a52ee15c\", element=\"d29a8349-efcd-4ab1-9b72-35f8ab9200ab\")>\n",
      "Done\n",
      "<selenium.webdriver.remote.webelement.WebElement (session=\"81695d2d4b8f413f524183d0a52ee15c\", element=\"67f71535-6158-4404-a748-fbcfc06cc22a\")>\n",
      "Done\n",
      "<selenium.webdriver.remote.webelement.WebElement (session=\"81695d2d4b8f413f524183d0a52ee15c\", element=\"e1bee6ff-83f3-420c-a2a9-0a797aa45bdc\")>\n",
      "Done\n",
      "<selenium.webdriver.remote.webelement.WebElement (session=\"81695d2d4b8f413f524183d0a52ee15c\", element=\"57b4fb2a-066e-4d68-a309-d28cd53ec748\")>\n",
      "Done\n",
      "<selenium.webdriver.remote.webelement.WebElement (session=\"81695d2d4b8f413f524183d0a52ee15c\", element=\"9aa00691-b056-4e9b-8c3c-4b5c31d4c00e\")>\n",
      "Done\n",
      "<selenium.webdriver.remote.webelement.WebElement (session=\"81695d2d4b8f413f524183d0a52ee15c\", element=\"d9a5c8a4-6d25-480b-8b49-5d9c38d28c02\")>\n",
      "Done\n",
      "<selenium.webdriver.remote.webelement.WebElement (session=\"81695d2d4b8f413f524183d0a52ee15c\", element=\"b95dc64c-e099-4517-a735-020a7c001470\")>\n",
      "Done\n",
      "<selenium.webdriver.remote.webelement.WebElement (session=\"81695d2d4b8f413f524183d0a52ee15c\", element=\"9f2a3b1f-1890-4ff3-b915-89cbef8bde76\")>\n",
      "Done\n",
      "<selenium.webdriver.remote.webelement.WebElement (session=\"81695d2d4b8f413f524183d0a52ee15c\", element=\"a8432e4e-853a-467f-b148-02c48dbc982f\")>\n",
      "Done\n",
      "<selenium.webdriver.remote.webelement.WebElement (session=\"81695d2d4b8f413f524183d0a52ee15c\", element=\"024afc5c-866e-4085-8ec4-02cb42b2f5fc\")>\n",
      "Done\n",
      "<selenium.webdriver.remote.webelement.WebElement (session=\"81695d2d4b8f413f524183d0a52ee15c\", element=\"b8397f77-3406-40d6-b9a1-cffd47aced5c\")>\n",
      "Done\n",
      "<selenium.webdriver.remote.webelement.WebElement (session=\"81695d2d4b8f413f524183d0a52ee15c\", element=\"65f287c7-6ae5-40ce-a9a6-76c08c48fcfc\")>\n",
      "Done\n",
      "<selenium.webdriver.remote.webelement.WebElement (session=\"81695d2d4b8f413f524183d0a52ee15c\", element=\"0e568886-617b-40f0-ac8e-6f152f037ffc\")>\n",
      "Done\n",
      "<selenium.webdriver.remote.webelement.WebElement (session=\"81695d2d4b8f413f524183d0a52ee15c\", element=\"92868a3d-7265-4db0-ba33-09fb1af85b8c\")>\n",
      "Done\n",
      "<selenium.webdriver.remote.webelement.WebElement (session=\"81695d2d4b8f413f524183d0a52ee15c\", element=\"64437405-7843-4b2a-aafa-4f4ffc578be4\")>\n"
     ]
    },
    {
     "name": "stdout",
     "output_type": "stream",
     "text": [
      "Done\n",
      "<selenium.webdriver.remote.webelement.WebElement (session=\"81695d2d4b8f413f524183d0a52ee15c\", element=\"97788e75-4092-40bb-8873-45f0325afeb7\")>\n",
      "Done\n",
      "<selenium.webdriver.remote.webelement.WebElement (session=\"81695d2d4b8f413f524183d0a52ee15c\", element=\"42d6cd99-1fc1-40a2-95e9-d20123c0a1f9\")>\n",
      "Done\n",
      "<selenium.webdriver.remote.webelement.WebElement (session=\"81695d2d4b8f413f524183d0a52ee15c\", element=\"a93d3f33-df70-4eba-8cdb-92b10cbc2447\")>\n",
      "Done\n",
      "<selenium.webdriver.remote.webelement.WebElement (session=\"81695d2d4b8f413f524183d0a52ee15c\", element=\"b88bd4e8-ec90-4fa7-9635-a7bd9927c579\")>\n",
      "Done\n",
      "<selenium.webdriver.remote.webelement.WebElement (session=\"81695d2d4b8f413f524183d0a52ee15c\", element=\"28782dd3-6ebe-43db-a595-3ce7adfcb0f1\")>\n"
     ]
    }
   ],
   "source": [
    "#river = webdriver.Chrome(ChromeDriverManager().install())\n",
    "results_list = []    \n",
    "for i in url_list:   \n",
    "    #Go to URL\n",
    "    driver.get(i)\n",
    "    # After coping the full X-path in the webpage\n",
    "    time.sleep(5)\n",
    "    my_info = driver.find_element_by_css_selector(\"body > div.site-wrapper > main > article > div > div.ResultArchiveContainer > div.resultsarchive-wrapper > div.resultsarchive-content > div > table\")\n",
    "    print(\"Done\")\n",
    "    print(my_info)\n",
    "    results_list.append(my_info.text) #we have to append the result.text because if we try to extract the text afterwars it doesn't work\n",
    "driver.quit()"
   ]
  },
  {
   "cell_type": "code",
   "execution_count": null,
   "id": "f7b4944b",
   "metadata": {},
   "outputs": [],
   "source": [
    "#body > div.site-wrapper > main > article > div > div.ResultArchiveContainer > div.resultsarchive-wrapper > div.resultsarchive-content\n",
    "\n",
    "#body > div.site-wrapper > main > article > div > div.ResultArchiveContainer > div.resultsarchive-wrapper > div.resultsarchive-content > div\n",
    "\n",
    "#body > div.site-wrapper > main > article > div > div.ResultArchiveContainer > div.resultsarchive-wrapper > div.resultsarchive-content > div > table"
   ]
  },
  {
   "cell_type": "code",
   "execution_count": null,
   "id": "9d3a7c52",
   "metadata": {},
   "outputs": [],
   "source": [
    "#body > div.site-wrapper > main > article > div > div.ResultArchiveContainer > div.resultsarchive-wrapper"
   ]
  },
  {
   "cell_type": "code",
   "execution_count": 37,
   "id": "4cd84e81",
   "metadata": {},
   "outputs": [
    {
     "data": {
      "text/plain": [
       "'POS DRIVER NATIONALITY CAR PTS\\n1 Jack Brabham AUS COOPER CLIMAX 43\\n2 Bruce McLaren NZL COOPER CLIMAX 34\\n3 Stirling Moss GBR LOTUS CLIMAX 19\\n4 Innes Ireland GBR LOTUS CLIMAX 18\\n5 Phil Hill USA COOPER CLIMAX 16\\n6 Olivier Gendebien BEL COOPER CLIMAX 10\\n6 Wolfgang von Trips GER COOPER MASERATI 10\\n8 Jim Rathmann USA WATSON OFFENHAUSER 8\\n8 Richie Ginther USA FERRARI 8\\n8 Jim Clark GBR LOTUS CLIMAX 8\\n11 Tony Brooks GBR COOPER CLIMAX 7\\n12 Cliff Allison GBR FERRARI 6\\n12 Rodger Ward USA WATSON OFFENHAUSER 6\\n12 John Surtees GBR LOTUS CLIMAX 6\\n15 Paul Goldsmith USA EPPERLY OFFENHAUSER 4\\n15 Graham Hill GBR BRM 4\\n15 Willy Mairesse BEL FERRARI 4\\n15 Jo Bonnier SWE BRM 4\\n19 Carlos Menditeguy ARG COOPER MASERATI 3\\n19 Don Branson USA PHILLIPS OFFENHAUSER 3\\n19 Henry Taylor GBR COOPER CLIMAX 3\\n19 Giulio Cabianca ITA COOPER CASTELLOTTI 3\\n23 Johnny Thomson USA LESOVSKY OFFENHAUSER 2\\n24 Eddie Johnson USA TREVIS OFFENHAUSER 1\\n24 Lucien Bianchi BEL COOPER CLIMAX 1\\n24 Ron Flockhart GBR COOPER CLIMAX 1\\n24 Hans Herrmann GER PORSCHE 1'"
      ]
     },
     "execution_count": 37,
     "metadata": {},
     "output_type": "execute_result"
    }
   ],
   "source": [
    "results_list[0]"
   ]
  },
  {
   "cell_type": "code",
   "execution_count": 38,
   "id": "bcb6d3ff",
   "metadata": {},
   "outputs": [
    {
     "data": {
      "text/plain": [
       "list"
      ]
     },
     "execution_count": 38,
     "metadata": {},
     "output_type": "execute_result"
    }
   ],
   "source": [
    "type(results_list)"
   ]
  },
  {
   "cell_type": "code",
   "execution_count": 39,
   "id": "c8ab8f4a",
   "metadata": {},
   "outputs": [],
   "source": [
    "df_results = pd.DataFrame(results_list)"
   ]
  },
  {
   "cell_type": "code",
   "execution_count": 41,
   "id": "94dfc6b5",
   "metadata": {},
   "outputs": [
    {
     "data": {
      "text/html": [
       "<div>\n",
       "<style scoped>\n",
       "    .dataframe tbody tr th:only-of-type {\n",
       "        vertical-align: middle;\n",
       "    }\n",
       "\n",
       "    .dataframe tbody tr th {\n",
       "        vertical-align: top;\n",
       "    }\n",
       "\n",
       "    .dataframe thead th {\n",
       "        text-align: right;\n",
       "    }\n",
       "</style>\n",
       "<table border=\"1\" class=\"dataframe\">\n",
       "  <thead>\n",
       "    <tr style=\"text-align: right;\">\n",
       "      <th></th>\n",
       "      <th>0</th>\n",
       "    </tr>\n",
       "  </thead>\n",
       "  <tbody>\n",
       "    <tr>\n",
       "      <th>0</th>\n",
       "      <td>POS DRIVER NATIONALITY CAR PTS\\n1 Jack Brabham...</td>\n",
       "    </tr>\n",
       "    <tr>\n",
       "      <th>1</th>\n",
       "      <td>POS DRIVER NATIONALITY CAR PTS\\n1 Phil Hill US...</td>\n",
       "    </tr>\n",
       "    <tr>\n",
       "      <th>2</th>\n",
       "      <td>POS DRIVER NATIONALITY CAR PTS\\n1 Graham Hill ...</td>\n",
       "    </tr>\n",
       "    <tr>\n",
       "      <th>3</th>\n",
       "      <td>POS DRIVER NATIONALITY CAR PTS\\n1 Jim Clark GB...</td>\n",
       "    </tr>\n",
       "    <tr>\n",
       "      <th>4</th>\n",
       "      <td>POS DRIVER NATIONALITY CAR PTS\\n1 John Surtees...</td>\n",
       "    </tr>\n",
       "    <tr>\n",
       "      <th>...</th>\n",
       "      <td>...</td>\n",
       "    </tr>\n",
       "    <tr>\n",
       "      <th>56</th>\n",
       "      <td>POS DRIVER NATIONALITY CAR PTS\\n1 Nico Rosberg...</td>\n",
       "    </tr>\n",
       "    <tr>\n",
       "      <th>57</th>\n",
       "      <td>POS DRIVER NATIONALITY CAR PTS\\n1 Lewis Hamilt...</td>\n",
       "    </tr>\n",
       "    <tr>\n",
       "      <th>58</th>\n",
       "      <td>POS DRIVER NATIONALITY CAR PTS\\n1 Lewis Hamilt...</td>\n",
       "    </tr>\n",
       "    <tr>\n",
       "      <th>59</th>\n",
       "      <td>POS DRIVER NATIONALITY CAR PTS\\n1 Lewis Hamilt...</td>\n",
       "    </tr>\n",
       "    <tr>\n",
       "      <th>60</th>\n",
       "      <td>POS DRIVER NATIONALITY CAR PTS\\n1 Lewis Hamilt...</td>\n",
       "    </tr>\n",
       "  </tbody>\n",
       "</table>\n",
       "<p>61 rows × 1 columns</p>\n",
       "</div>"
      ],
      "text/plain": [
       "                                                    0\n",
       "0   POS DRIVER NATIONALITY CAR PTS\\n1 Jack Brabham...\n",
       "1   POS DRIVER NATIONALITY CAR PTS\\n1 Phil Hill US...\n",
       "2   POS DRIVER NATIONALITY CAR PTS\\n1 Graham Hill ...\n",
       "3   POS DRIVER NATIONALITY CAR PTS\\n1 Jim Clark GB...\n",
       "4   POS DRIVER NATIONALITY CAR PTS\\n1 John Surtees...\n",
       "..                                                ...\n",
       "56  POS DRIVER NATIONALITY CAR PTS\\n1 Nico Rosberg...\n",
       "57  POS DRIVER NATIONALITY CAR PTS\\n1 Lewis Hamilt...\n",
       "58  POS DRIVER NATIONALITY CAR PTS\\n1 Lewis Hamilt...\n",
       "59  POS DRIVER NATIONALITY CAR PTS\\n1 Lewis Hamilt...\n",
       "60  POS DRIVER NATIONALITY CAR PTS\\n1 Lewis Hamilt...\n",
       "\n",
       "[61 rows x 1 columns]"
      ]
     },
     "execution_count": 41,
     "metadata": {},
     "output_type": "execute_result"
    }
   ],
   "source": [
    "df_results"
   ]
  },
  {
   "cell_type": "code",
   "execution_count": 40,
   "id": "59e4472f",
   "metadata": {},
   "outputs": [
    {
     "data": {
      "text/plain": [
       "pandas.core.frame.DataFrame"
      ]
     },
     "execution_count": 40,
     "metadata": {},
     "output_type": "execute_result"
    }
   ],
   "source": [
    "type(df)"
   ]
  },
  {
   "cell_type": "code",
   "execution_count": 42,
   "id": "bdb95d61",
   "metadata": {},
   "outputs": [],
   "source": [
    "df_results.to_csv('df_results.csv')"
   ]
  }
 ],
 "metadata": {
  "kernelspec": {
   "display_name": "ironhack",
   "language": "python",
   "name": "ironhack"
  },
  "language_info": {
   "codemirror_mode": {
    "name": "ipython",
    "version": 3
   },
   "file_extension": ".py",
   "mimetype": "text/x-python",
   "name": "python",
   "nbconvert_exporter": "python",
   "pygments_lexer": "ipython3",
   "version": "3.8.8"
  }
 },
 "nbformat": 4,
 "nbformat_minor": 5
}
