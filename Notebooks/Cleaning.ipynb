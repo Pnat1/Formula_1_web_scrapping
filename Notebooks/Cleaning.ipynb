{
 "cells": [
  {
   "cell_type": "code",
   "execution_count": 1,
   "id": "74b2e694",
   "metadata": {},
   "outputs": [],
   "source": [
    "import pandas as pd\n",
    "import numpy as np"
   ]
  },
  {
   "cell_type": "code",
   "execution_count": 2,
   "id": "59fff3b4",
   "metadata": {},
   "outputs": [],
   "source": [
    "driver_standings = pd.read_csv('df_results.csv', index_col = 0)"
   ]
  },
  {
   "cell_type": "code",
   "execution_count": 3,
   "id": "908ae4c7",
   "metadata": {},
   "outputs": [
    {
     "data": {
      "text/html": [
       "<div>\n",
       "<style scoped>\n",
       "    .dataframe tbody tr th:only-of-type {\n",
       "        vertical-align: middle;\n",
       "    }\n",
       "\n",
       "    .dataframe tbody tr th {\n",
       "        vertical-align: top;\n",
       "    }\n",
       "\n",
       "    .dataframe thead th {\n",
       "        text-align: right;\n",
       "    }\n",
       "</style>\n",
       "<table border=\"1\" class=\"dataframe\">\n",
       "  <thead>\n",
       "    <tr style=\"text-align: right;\">\n",
       "      <th></th>\n",
       "      <th>0</th>\n",
       "    </tr>\n",
       "  </thead>\n",
       "  <tbody>\n",
       "    <tr>\n",
       "      <th>0</th>\n",
       "      <td>POS DRIVER NATIONALITY CAR PTS\\n1 Jack Brabham...</td>\n",
       "    </tr>\n",
       "    <tr>\n",
       "      <th>1</th>\n",
       "      <td>POS DRIVER NATIONALITY CAR PTS\\n1 Phil Hill US...</td>\n",
       "    </tr>\n",
       "    <tr>\n",
       "      <th>2</th>\n",
       "      <td>POS DRIVER NATIONALITY CAR PTS\\n1 Graham Hill ...</td>\n",
       "    </tr>\n",
       "    <tr>\n",
       "      <th>3</th>\n",
       "      <td>POS DRIVER NATIONALITY CAR PTS\\n1 Jim Clark GB...</td>\n",
       "    </tr>\n",
       "    <tr>\n",
       "      <th>4</th>\n",
       "      <td>POS DRIVER NATIONALITY CAR PTS\\n1 John Surtees...</td>\n",
       "    </tr>\n",
       "    <tr>\n",
       "      <th>...</th>\n",
       "      <td>...</td>\n",
       "    </tr>\n",
       "    <tr>\n",
       "      <th>56</th>\n",
       "      <td>POS DRIVER NATIONALITY CAR PTS\\n1 Nico Rosberg...</td>\n",
       "    </tr>\n",
       "    <tr>\n",
       "      <th>57</th>\n",
       "      <td>POS DRIVER NATIONALITY CAR PTS\\n1 Lewis Hamilt...</td>\n",
       "    </tr>\n",
       "    <tr>\n",
       "      <th>58</th>\n",
       "      <td>POS DRIVER NATIONALITY CAR PTS\\n1 Lewis Hamilt...</td>\n",
       "    </tr>\n",
       "    <tr>\n",
       "      <th>59</th>\n",
       "      <td>POS DRIVER NATIONALITY CAR PTS\\n1 Lewis Hamilt...</td>\n",
       "    </tr>\n",
       "    <tr>\n",
       "      <th>60</th>\n",
       "      <td>POS DRIVER NATIONALITY CAR PTS\\n1 Lewis Hamilt...</td>\n",
       "    </tr>\n",
       "  </tbody>\n",
       "</table>\n",
       "<p>61 rows × 1 columns</p>\n",
       "</div>"
      ],
      "text/plain": [
       "                                                    0\n",
       "0   POS DRIVER NATIONALITY CAR PTS\\n1 Jack Brabham...\n",
       "1   POS DRIVER NATIONALITY CAR PTS\\n1 Phil Hill US...\n",
       "2   POS DRIVER NATIONALITY CAR PTS\\n1 Graham Hill ...\n",
       "3   POS DRIVER NATIONALITY CAR PTS\\n1 Jim Clark GB...\n",
       "4   POS DRIVER NATIONALITY CAR PTS\\n1 John Surtees...\n",
       "..                                                ...\n",
       "56  POS DRIVER NATIONALITY CAR PTS\\n1 Nico Rosberg...\n",
       "57  POS DRIVER NATIONALITY CAR PTS\\n1 Lewis Hamilt...\n",
       "58  POS DRIVER NATIONALITY CAR PTS\\n1 Lewis Hamilt...\n",
       "59  POS DRIVER NATIONALITY CAR PTS\\n1 Lewis Hamilt...\n",
       "60  POS DRIVER NATIONALITY CAR PTS\\n1 Lewis Hamilt...\n",
       "\n",
       "[61 rows x 1 columns]"
      ]
     },
     "execution_count": 3,
     "metadata": {},
     "output_type": "execute_result"
    }
   ],
   "source": [
    "driver_standings"
   ]
  },
  {
   "cell_type": "code",
   "execution_count": 4,
   "id": "c2cea790",
   "metadata": {},
   "outputs": [
    {
     "data": {
      "text/plain": [
       "'POS DRIVER NATIONALITY CAR PTS\\n1 Jack Brabham AUS COOPER CLIMAX 43\\n2 Bruce McLaren NZL COOPER CLIMAX 34\\n3 Stirling Moss GBR LOTUS CLIMAX 19\\n4 Innes Ireland GBR LOTUS CLIMAX 18\\n5 Phil Hill USA COOPER CLIMAX 16\\n6 Olivier Gendebien BEL COOPER CLIMAX 10\\n6 Wolfgang von Trips GER COOPER MASERATI 10\\n8 Jim Rathmann USA WATSON OFFENHAUSER 8\\n8 Richie Ginther USA FERRARI 8\\n8 Jim Clark GBR LOTUS CLIMAX 8\\n11 Tony Brooks GBR COOPER CLIMAX 7\\n12 Cliff Allison GBR FERRARI 6\\n12 Rodger Ward USA WATSON OFFENHAUSER 6\\n12 John Surtees GBR LOTUS CLIMAX 6\\n15 Paul Goldsmith USA EPPERLY OFFENHAUSER 4\\n15 Graham Hill GBR BRM 4\\n15 Willy Mairesse BEL FERRARI 4\\n15 Jo Bonnier SWE BRM 4\\n19 Carlos Menditeguy ARG COOPER MASERATI 3\\n19 Don Branson USA PHILLIPS OFFENHAUSER 3\\n19 Henry Taylor GBR COOPER CLIMAX 3\\n19 Giulio Cabianca ITA COOPER CASTELLOTTI 3\\n23 Johnny Thomson USA LESOVSKY OFFENHAUSER 2\\n24 Eddie Johnson USA TREVIS OFFENHAUSER 1\\n24 Lucien Bianchi BEL COOPER CLIMAX 1\\n24 Ron Flockhart GBR COOPER CLIMAX 1\\n24 Hans Herrmann GER PORSCHE 1'"
      ]
     },
     "execution_count": 4,
     "metadata": {},
     "output_type": "execute_result"
    }
   ],
   "source": [
    "# First loc the first Fomula 1 season recorded from 1960\n",
    "driver_standings.iloc[0][0]"
   ]
  },
  {
   "cell_type": "code",
   "execution_count": 5,
   "id": "9f96a2e9",
   "metadata": {},
   "outputs": [],
   "source": [
    "first = list(driver_standings.iloc[0][0].split(\"\\n\"))\n",
    "header = first[0]"
   ]
  },
  {
   "cell_type": "code",
   "execution_count": 6,
   "id": "6b17e6fd",
   "metadata": {},
   "outputs": [
    {
     "data": {
      "text/plain": [
       "'POS DRIVER NATIONALITY CAR PTS'"
      ]
     },
     "execution_count": 6,
     "metadata": {},
     "output_type": "execute_result"
    }
   ],
   "source": [
    "header"
   ]
  },
  {
   "cell_type": "code",
   "execution_count": 7,
   "id": "d36a7dc6",
   "metadata": {},
   "outputs": [
    {
     "data": {
      "text/plain": [
       "['POS DRIVER NATIONALITY CAR PTS',\n",
       " '1 Jack Brabham AUS COOPER CLIMAX 43',\n",
       " '2 Bruce McLaren NZL COOPER CLIMAX 34',\n",
       " '3 Stirling Moss GBR LOTUS CLIMAX 19',\n",
       " '4 Innes Ireland GBR LOTUS CLIMAX 18',\n",
       " '5 Phil Hill USA COOPER CLIMAX 16',\n",
       " '6 Olivier Gendebien BEL COOPER CLIMAX 10',\n",
       " '6 Wolfgang von Trips GER COOPER MASERATI 10',\n",
       " '8 Jim Rathmann USA WATSON OFFENHAUSER 8',\n",
       " '8 Richie Ginther USA FERRARI 8',\n",
       " '8 Jim Clark GBR LOTUS CLIMAX 8',\n",
       " '11 Tony Brooks GBR COOPER CLIMAX 7',\n",
       " '12 Cliff Allison GBR FERRARI 6',\n",
       " '12 Rodger Ward USA WATSON OFFENHAUSER 6',\n",
       " '12 John Surtees GBR LOTUS CLIMAX 6',\n",
       " '15 Paul Goldsmith USA EPPERLY OFFENHAUSER 4',\n",
       " '15 Graham Hill GBR BRM 4',\n",
       " '15 Willy Mairesse BEL FERRARI 4',\n",
       " '15 Jo Bonnier SWE BRM 4',\n",
       " '19 Carlos Menditeguy ARG COOPER MASERATI 3',\n",
       " '19 Don Branson USA PHILLIPS OFFENHAUSER 3',\n",
       " '19 Henry Taylor GBR COOPER CLIMAX 3',\n",
       " '19 Giulio Cabianca ITA COOPER CASTELLOTTI 3',\n",
       " '23 Johnny Thomson USA LESOVSKY OFFENHAUSER 2',\n",
       " '24 Eddie Johnson USA TREVIS OFFENHAUSER 1',\n",
       " '24 Lucien Bianchi BEL COOPER CLIMAX 1',\n",
       " '24 Ron Flockhart GBR COOPER CLIMAX 1',\n",
       " '24 Hans Herrmann GER PORSCHE 1']"
      ]
     },
     "execution_count": 7,
     "metadata": {},
     "output_type": "execute_result"
    }
   ],
   "source": [
    "first"
   ]
  },
  {
   "cell_type": "code",
   "execution_count": 8,
   "id": "07e027f3",
   "metadata": {},
   "outputs": [],
   "source": [
    "columns = [\"POS\", \"DRIVER\", \"NATIONALITY\", \"CAR\", \"PTS\"]"
   ]
  },
  {
   "cell_type": "code",
   "execution_count": 10,
   "id": "00b2ba41",
   "metadata": {},
   "outputs": [],
   "source": [
    "#order = driver_standings.DataFrame(np.array(x[1:]).reshape(0, 28)).T"
   ]
  },
  {
   "cell_type": "code",
   "execution_count": 11,
   "id": "7209ffbe",
   "metadata": {},
   "outputs": [
    {
     "data": {
      "text/plain": [
       "[['1',\n",
       "  '2',\n",
       "  '3',\n",
       "  '4',\n",
       "  '5',\n",
       "  '6',\n",
       "  '6',\n",
       "  '8',\n",
       "  '8',\n",
       "  '8',\n",
       "  '1',\n",
       "  '1',\n",
       "  '1',\n",
       "  '1',\n",
       "  '1',\n",
       "  '1',\n",
       "  '1',\n",
       "  '1',\n",
       "  '1',\n",
       "  '1',\n",
       "  '1',\n",
       "  '1',\n",
       "  '2',\n",
       "  '2',\n",
       "  '2',\n",
       "  '2',\n",
       "  '2'],\n",
       " [' ',\n",
       "  ' ',\n",
       "  ' ',\n",
       "  ' ',\n",
       "  ' ',\n",
       "  ' ',\n",
       "  ' ',\n",
       "  ' ',\n",
       "  ' ',\n",
       "  ' ',\n",
       "  '1',\n",
       "  '2',\n",
       "  '2',\n",
       "  '2',\n",
       "  '5',\n",
       "  '5',\n",
       "  '5',\n",
       "  '5',\n",
       "  '9',\n",
       "  '9',\n",
       "  '9',\n",
       "  '9',\n",
       "  '3',\n",
       "  '4',\n",
       "  '4',\n",
       "  '4',\n",
       "  '4']]"
      ]
     },
     "execution_count": 11,
     "metadata": {},
     "output_type": "execute_result"
    }
   ],
   "source": [
    "[[x[0] for x in first[1:]], [x[1] for x in first[1:]]]"
   ]
  },
  {
   "cell_type": "code",
   "execution_count": 13,
   "id": "f1d7f28d",
   "metadata": {},
   "outputs": [
    {
     "name": "stdout",
     "output_type": "stream",
     "text": [
      "['1', '2', '3', '4', '5', '6', '6', '8', '8', '8', '1', '1', '1', '1', '1', '1', '1', '1', '1', '1', '1', '1', '2', '2', '2', '2', '2']\n"
     ]
    }
   ],
   "source": [
    "print([x[0] for x in first[1:]])"
   ]
  },
  {
   "cell_type": "code",
   "execution_count": null,
   "id": "d29b2c77",
   "metadata": {},
   "outputs": [],
   "source": []
  }
 ],
 "metadata": {
  "kernelspec": {
   "display_name": "ironhack",
   "language": "python",
   "name": "ironhack"
  },
  "language_info": {
   "codemirror_mode": {
    "name": "ipython",
    "version": 3
   },
   "file_extension": ".py",
   "mimetype": "text/x-python",
   "name": "python",
   "nbconvert_exporter": "python",
   "pygments_lexer": "ipython3",
   "version": "3.8.8"
  }
 },
 "nbformat": 4,
 "nbformat_minor": 5
}
