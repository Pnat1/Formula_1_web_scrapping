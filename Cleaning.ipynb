{
 "cells": [
  {
   "cell_type": "code",
   "execution_count": 18,
   "id": "74b2e694",
   "metadata": {},
   "outputs": [],
   "source": [
    "import pandas as pd\n",
    "import numpy as np"
   ]
  },
  {
   "cell_type": "code",
   "execution_count": 8,
   "id": "59fff3b4",
   "metadata": {},
   "outputs": [],
   "source": [
    "driver_standings = pd.read_csv('df_results.csv', index_col = 0)"
   ]
  },
  {
   "cell_type": "code",
   "execution_count": 9,
   "id": "908ae4c7",
   "metadata": {},
   "outputs": [
    {
     "data": {
      "text/html": [
       "<div>\n",
       "<style scoped>\n",
       "    .dataframe tbody tr th:only-of-type {\n",
       "        vertical-align: middle;\n",
       "    }\n",
       "\n",
       "    .dataframe tbody tr th {\n",
       "        vertical-align: top;\n",
       "    }\n",
       "\n",
       "    .dataframe thead th {\n",
       "        text-align: right;\n",
       "    }\n",
       "</style>\n",
       "<table border=\"1\" class=\"dataframe\">\n",
       "  <thead>\n",
       "    <tr style=\"text-align: right;\">\n",
       "      <th></th>\n",
       "      <th>0</th>\n",
       "    </tr>\n",
       "  </thead>\n",
       "  <tbody>\n",
       "    <tr>\n",
       "      <th>0</th>\n",
       "      <td>POS DRIVER NATIONALITY CAR PTS\\n1 Jack Brabham...</td>\n",
       "    </tr>\n",
       "    <tr>\n",
       "      <th>1</th>\n",
       "      <td>POS DRIVER NATIONALITY CAR PTS\\n1 Phil Hill US...</td>\n",
       "    </tr>\n",
       "    <tr>\n",
       "      <th>2</th>\n",
       "      <td>POS DRIVER NATIONALITY CAR PTS\\n1 Graham Hill ...</td>\n",
       "    </tr>\n",
       "    <tr>\n",
       "      <th>3</th>\n",
       "      <td>POS DRIVER NATIONALITY CAR PTS\\n1 Jim Clark GB...</td>\n",
       "    </tr>\n",
       "    <tr>\n",
       "      <th>4</th>\n",
       "      <td>POS DRIVER NATIONALITY CAR PTS\\n1 John Surtees...</td>\n",
       "    </tr>\n",
       "    <tr>\n",
       "      <th>...</th>\n",
       "      <td>...</td>\n",
       "    </tr>\n",
       "    <tr>\n",
       "      <th>56</th>\n",
       "      <td>POS DRIVER NATIONALITY CAR PTS\\n1 Nico Rosberg...</td>\n",
       "    </tr>\n",
       "    <tr>\n",
       "      <th>57</th>\n",
       "      <td>POS DRIVER NATIONALITY CAR PTS\\n1 Lewis Hamilt...</td>\n",
       "    </tr>\n",
       "    <tr>\n",
       "      <th>58</th>\n",
       "      <td>POS DRIVER NATIONALITY CAR PTS\\n1 Lewis Hamilt...</td>\n",
       "    </tr>\n",
       "    <tr>\n",
       "      <th>59</th>\n",
       "      <td>POS DRIVER NATIONALITY CAR PTS\\n1 Lewis Hamilt...</td>\n",
       "    </tr>\n",
       "    <tr>\n",
       "      <th>60</th>\n",
       "      <td>POS DRIVER NATIONALITY CAR PTS\\n1 Lewis Hamilt...</td>\n",
       "    </tr>\n",
       "  </tbody>\n",
       "</table>\n",
       "<p>61 rows × 1 columns</p>\n",
       "</div>"
      ],
      "text/plain": [
       "                                                    0\n",
       "0   POS DRIVER NATIONALITY CAR PTS\\n1 Jack Brabham...\n",
       "1   POS DRIVER NATIONALITY CAR PTS\\n1 Phil Hill US...\n",
       "2   POS DRIVER NATIONALITY CAR PTS\\n1 Graham Hill ...\n",
       "3   POS DRIVER NATIONALITY CAR PTS\\n1 Jim Clark GB...\n",
       "4   POS DRIVER NATIONALITY CAR PTS\\n1 John Surtees...\n",
       "..                                                ...\n",
       "56  POS DRIVER NATIONALITY CAR PTS\\n1 Nico Rosberg...\n",
       "57  POS DRIVER NATIONALITY CAR PTS\\n1 Lewis Hamilt...\n",
       "58  POS DRIVER NATIONALITY CAR PTS\\n1 Lewis Hamilt...\n",
       "59  POS DRIVER NATIONALITY CAR PTS\\n1 Lewis Hamilt...\n",
       "60  POS DRIVER NATIONALITY CAR PTS\\n1 Lewis Hamilt...\n",
       "\n",
       "[61 rows x 1 columns]"
      ]
     },
     "execution_count": 9,
     "metadata": {},
     "output_type": "execute_result"
    }
   ],
   "source": [
    "driver_standings"
   ]
  },
  {
   "cell_type": "code",
   "execution_count": 11,
   "id": "c2cea790",
   "metadata": {},
   "outputs": [
    {
     "data": {
      "text/plain": [
       "'POS DRIVER NATIONALITY CAR PTS\\n1 Jack Brabham AUS COOPER CLIMAX 43\\n2 Bruce McLaren NZL COOPER CLIMAX 34\\n3 Stirling Moss GBR LOTUS CLIMAX 19\\n4 Innes Ireland GBR LOTUS CLIMAX 18\\n5 Phil Hill USA COOPER CLIMAX 16\\n6 Olivier Gendebien BEL COOPER CLIMAX 10\\n6 Wolfgang von Trips GER COOPER MASERATI 10\\n8 Jim Rathmann USA WATSON OFFENHAUSER 8\\n8 Richie Ginther USA FERRARI 8\\n8 Jim Clark GBR LOTUS CLIMAX 8\\n11 Tony Brooks GBR COOPER CLIMAX 7\\n12 Cliff Allison GBR FERRARI 6\\n12 Rodger Ward USA WATSON OFFENHAUSER 6\\n12 John Surtees GBR LOTUS CLIMAX 6\\n15 Paul Goldsmith USA EPPERLY OFFENHAUSER 4\\n15 Graham Hill GBR BRM 4\\n15 Willy Mairesse BEL FERRARI 4\\n15 Jo Bonnier SWE BRM 4\\n19 Carlos Menditeguy ARG COOPER MASERATI 3\\n19 Don Branson USA PHILLIPS OFFENHAUSER 3\\n19 Henry Taylor GBR COOPER CLIMAX 3\\n19 Giulio Cabianca ITA COOPER CASTELLOTTI 3\\n23 Johnny Thomson USA LESOVSKY OFFENHAUSER 2\\n24 Eddie Johnson USA TREVIS OFFENHAUSER 1\\n24 Lucien Bianchi BEL COOPER CLIMAX 1\\n24 Ron Flockhart GBR COOPER CLIMAX 1\\n24 Hans Herrmann GER PORSCHE 1'"
      ]
     },
     "execution_count": 11,
     "metadata": {},
     "output_type": "execute_result"
    }
   ],
   "source": [
    "driver_standings.iloc[0][0]"
   ]
  },
  {
   "cell_type": "code",
   "execution_count": 13,
   "id": "9f96a2e9",
   "metadata": {},
   "outputs": [],
   "source": [
    "first = list(driver_standings.iloc[0][0].split(\"\\n\"))\n",
    "header = first[0]"
   ]
  },
  {
   "cell_type": "code",
   "execution_count": 14,
   "id": "6b17e6fd",
   "metadata": {},
   "outputs": [
    {
     "data": {
      "text/plain": [
       "'POS DRIVER NATIONALITY CAR PTS'"
      ]
     },
     "execution_count": 14,
     "metadata": {},
     "output_type": "execute_result"
    }
   ],
   "source": [
    "header"
   ]
  },
  {
   "cell_type": "code",
   "execution_count": 15,
   "id": "d36a7dc6",
   "metadata": {},
   "outputs": [
    {
     "data": {
      "text/plain": [
       "['POS DRIVER NATIONALITY CAR PTS',\n",
       " '1 Jack Brabham AUS COOPER CLIMAX 43',\n",
       " '2 Bruce McLaren NZL COOPER CLIMAX 34',\n",
       " '3 Stirling Moss GBR LOTUS CLIMAX 19',\n",
       " '4 Innes Ireland GBR LOTUS CLIMAX 18',\n",
       " '5 Phil Hill USA COOPER CLIMAX 16',\n",
       " '6 Olivier Gendebien BEL COOPER CLIMAX 10',\n",
       " '6 Wolfgang von Trips GER COOPER MASERATI 10',\n",
       " '8 Jim Rathmann USA WATSON OFFENHAUSER 8',\n",
       " '8 Richie Ginther USA FERRARI 8',\n",
       " '8 Jim Clark GBR LOTUS CLIMAX 8',\n",
       " '11 Tony Brooks GBR COOPER CLIMAX 7',\n",
       " '12 Cliff Allison GBR FERRARI 6',\n",
       " '12 Rodger Ward USA WATSON OFFENHAUSER 6',\n",
       " '12 John Surtees GBR LOTUS CLIMAX 6',\n",
       " '15 Paul Goldsmith USA EPPERLY OFFENHAUSER 4',\n",
       " '15 Graham Hill GBR BRM 4',\n",
       " '15 Willy Mairesse BEL FERRARI 4',\n",
       " '15 Jo Bonnier SWE BRM 4',\n",
       " '19 Carlos Menditeguy ARG COOPER MASERATI 3',\n",
       " '19 Don Branson USA PHILLIPS OFFENHAUSER 3',\n",
       " '19 Henry Taylor GBR COOPER CLIMAX 3',\n",
       " '19 Giulio Cabianca ITA COOPER CASTELLOTTI 3',\n",
       " '23 Johnny Thomson USA LESOVSKY OFFENHAUSER 2',\n",
       " '24 Eddie Johnson USA TREVIS OFFENHAUSER 1',\n",
       " '24 Lucien Bianchi BEL COOPER CLIMAX 1',\n",
       " '24 Ron Flockhart GBR COOPER CLIMAX 1',\n",
       " '24 Hans Herrmann GER PORSCHE 1']"
      ]
     },
     "execution_count": 15,
     "metadata": {},
     "output_type": "execute_result"
    }
   ],
   "source": [
    "first"
   ]
  },
  {
   "cell_type": "code",
   "execution_count": 16,
   "id": "07e027f3",
   "metadata": {},
   "outputs": [],
   "source": [
    "columns = [\"POS\", \"DRIVER\", \"NATIONALITY\", \"CAR\", \"PTS\"]"
   ]
  },
  {
   "cell_type": "code",
   "execution_count": 17,
   "id": "f4645ef9",
   "metadata": {},
   "outputs": [
    {
     "data": {
      "text/plain": [
       "['POS DRIVER NATIONALITY CAR PTS',\n",
       " '1 Jack Brabham AUS COOPER CLIMAX 43',\n",
       " '2 Bruce McLaren NZL COOPER CLIMAX 34',\n",
       " '3 Stirling Moss GBR LOTUS CLIMAX 19',\n",
       " '4 Innes Ireland GBR LOTUS CLIMAX 18',\n",
       " '5 Phil Hill USA COOPER CLIMAX 16',\n",
       " '6 Olivier Gendebien BEL COOPER CLIMAX 10',\n",
       " '6 Wolfgang von Trips GER COOPER MASERATI 10',\n",
       " '8 Jim Rathmann USA WATSON OFFENHAUSER 8',\n",
       " '8 Richie Ginther USA FERRARI 8',\n",
       " '8 Jim Clark GBR LOTUS CLIMAX 8',\n",
       " '11 Tony Brooks GBR COOPER CLIMAX 7',\n",
       " '12 Cliff Allison GBR FERRARI 6',\n",
       " '12 Rodger Ward USA WATSON OFFENHAUSER 6',\n",
       " '12 John Surtees GBR LOTUS CLIMAX 6',\n",
       " '15 Paul Goldsmith USA EPPERLY OFFENHAUSER 4',\n",
       " '15 Graham Hill GBR BRM 4',\n",
       " '15 Willy Mairesse BEL FERRARI 4',\n",
       " '15 Jo Bonnier SWE BRM 4',\n",
       " '19 Carlos Menditeguy ARG COOPER MASERATI 3',\n",
       " '19 Don Branson USA PHILLIPS OFFENHAUSER 3',\n",
       " '19 Henry Taylor GBR COOPER CLIMAX 3',\n",
       " '19 Giulio Cabianca ITA COOPER CASTELLOTTI 3',\n",
       " '23 Johnny Thomson USA LESOVSKY OFFENHAUSER 2',\n",
       " '24 Eddie Johnson USA TREVIS OFFENHAUSER 1',\n",
       " '24 Lucien Bianchi BEL COOPER CLIMAX 1',\n",
       " '24 Ron Flockhart GBR COOPER CLIMAX 1',\n",
       " '24 Hans Herrmann GER PORSCHE 1']"
      ]
     },
     "execution_count": 17,
     "metadata": {},
     "output_type": "execute_result"
    }
   ],
   "source": [
    "first[0:]"
   ]
  },
  {
   "cell_type": "code",
   "execution_count": 19,
   "id": "00b2ba41",
   "metadata": {},
   "outputs": [
    {
     "ename": "AttributeError",
     "evalue": "'DataFrame' object has no attribute 'DataFrame'",
     "output_type": "error",
     "traceback": [
      "\u001b[0;31m---------------------------------------------------------------------------\u001b[0m",
      "\u001b[0;31mAttributeError\u001b[0m                            Traceback (most recent call last)",
      "\u001b[0;32m<ipython-input-19-bb828a9a2d23>\u001b[0m in \u001b[0;36m<module>\u001b[0;34m\u001b[0m\n\u001b[0;32m----> 1\u001b[0;31m \u001b[0morder\u001b[0m \u001b[0;34m=\u001b[0m \u001b[0mdriver_standings\u001b[0m\u001b[0;34m.\u001b[0m\u001b[0mDataFrame\u001b[0m\u001b[0;34m(\u001b[0m\u001b[0mnp\u001b[0m\u001b[0;34m.\u001b[0m\u001b[0marray\u001b[0m\u001b[0;34m(\u001b[0m\u001b[0mx\u001b[0m\u001b[0;34m[\u001b[0m\u001b[0;36m1\u001b[0m\u001b[0;34m:\u001b[0m\u001b[0;34m]\u001b[0m\u001b[0;34m)\u001b[0m\u001b[0;34m.\u001b[0m\u001b[0mreshape\u001b[0m\u001b[0;34m(\u001b[0m\u001b[0;36m0\u001b[0m\u001b[0;34m,\u001b[0m \u001b[0;36m28\u001b[0m\u001b[0;34m)\u001b[0m\u001b[0;34m)\u001b[0m\u001b[0;34m.\u001b[0m\u001b[0mT\u001b[0m\u001b[0;34m\u001b[0m\u001b[0;34m\u001b[0m\u001b[0m\n\u001b[0m",
      "\u001b[0;32m~/.local/lib/python3.8/site-packages/pandas/core/generic.py\u001b[0m in \u001b[0;36m__getattr__\u001b[0;34m(self, name)\u001b[0m\n\u001b[1;32m   5485\u001b[0m         ):\n\u001b[1;32m   5486\u001b[0m             \u001b[0;32mreturn\u001b[0m \u001b[0mself\u001b[0m\u001b[0;34m[\u001b[0m\u001b[0mname\u001b[0m\u001b[0;34m]\u001b[0m\u001b[0;34m\u001b[0m\u001b[0;34m\u001b[0m\u001b[0m\n\u001b[0;32m-> 5487\u001b[0;31m         \u001b[0;32mreturn\u001b[0m \u001b[0mobject\u001b[0m\u001b[0;34m.\u001b[0m\u001b[0m__getattribute__\u001b[0m\u001b[0;34m(\u001b[0m\u001b[0mself\u001b[0m\u001b[0;34m,\u001b[0m \u001b[0mname\u001b[0m\u001b[0;34m)\u001b[0m\u001b[0;34m\u001b[0m\u001b[0;34m\u001b[0m\u001b[0m\n\u001b[0m\u001b[1;32m   5488\u001b[0m \u001b[0;34m\u001b[0m\u001b[0m\n\u001b[1;32m   5489\u001b[0m     \u001b[0;32mdef\u001b[0m \u001b[0m__setattr__\u001b[0m\u001b[0;34m(\u001b[0m\u001b[0mself\u001b[0m\u001b[0;34m,\u001b[0m \u001b[0mname\u001b[0m\u001b[0;34m:\u001b[0m \u001b[0mstr\u001b[0m\u001b[0;34m,\u001b[0m \u001b[0mvalue\u001b[0m\u001b[0;34m)\u001b[0m \u001b[0;34m->\u001b[0m \u001b[0;32mNone\u001b[0m\u001b[0;34m:\u001b[0m\u001b[0;34m\u001b[0m\u001b[0;34m\u001b[0m\u001b[0m\n",
      "\u001b[0;31mAttributeError\u001b[0m: 'DataFrame' object has no attribute 'DataFrame'"
     ]
    }
   ],
   "source": [
    "order = driver_standings.DataFrame(np.array(x[1:]).reshape(0, 28)).T"
   ]
  },
  {
   "cell_type": "code",
   "execution_count": null,
   "id": "7209ffbe",
   "metadata": {},
   "outputs": [],
   "source": []
  }
 ],
 "metadata": {
  "kernelspec": {
   "display_name": "ironhack",
   "language": "python",
   "name": "ironhack"
  },
  "language_info": {
   "codemirror_mode": {
    "name": "ipython",
    "version": 3
   },
   "file_extension": ".py",
   "mimetype": "text/x-python",
   "name": "python",
   "nbconvert_exporter": "python",
   "pygments_lexer": "ipython3",
   "version": "3.8.8"
  }
 },
 "nbformat": 4,
 "nbformat_minor": 5
}
